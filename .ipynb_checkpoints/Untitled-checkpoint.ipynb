{
 "cells": [
  {
   "cell_type": "code",
   "execution_count": 12,
   "metadata": {},
   "outputs": [],
   "source": [
    "import numpy as np\n",
    "import cv2\n",
    "import pdb\n",
    "\n",
    "img_path = '4.png' \n",
    "img = cv2.imread(img_path)\n",
    "gray = cv2.cvtColor(img, cv2.COLOR_BGR2GRAY)\n",
    "\n",
    "detected_edges = cv2.GaussianBlur(gray, (3, 3), 0)\n",
    "detected_edges = cv2.Canny(detected_edges, 10, 200, apertureSize=3)\n",
    "\n",
    "areaIndex = np.copy(detected_edges)\n",
    "areaIndex[detected_edges == 0] = False\n",
    "areaIndex[detected_edges == 255] = True\n",
    "\n",
    "#create moving window\n",
    "n,m  = detected_edges.shape[0], detected_edges.shape[1]\n",
    "# pdb.set_trace()\n",
    "partNum = 200\n",
    "\n",
    "#caculate the broken rate of each area\n",
    "brokenRate = np.zeros(partNum)\n",
    "for i in range(partNum):\n",
    "    brokenRate[i] = sum(sum(areaIndex[:, m//partNum*i:m//partNum*(i+1)]))\n",
    "\n",
    "#replace 20% areas\n",
    "sortedBrokenRate = np.copy(brokenRate)\n",
    "sortedBrokenRate.sort()\n",
    "accpectRate = sortedBrokenRate[int(0.90 * len(sortedBrokenRate))]\n",
    "usedIndex = np.zeros(partNum)\n",
    "for i in range(partNum):\n",
    "    if brokenRate[i] > accpectRate:\n",
    "        replaceIndex = i\n",
    "        while replaceIndex < partNum:\n",
    "            if brokenRate[replaceIndex] < accpectRate and usedIndex[replaceIndex] == 0:\n",
    "                usedIndex[replaceIndex] = 1\n",
    "                break          \n",
    "            replaceIndex += 1\n",
    "        # pdb.set_trace()\n",
    "        img[:, m//partNum*i:m//partNum*(i+1)] = img[:, m//partNum*replaceIndex : m//partNum*(replaceIndex+1)]\n",
    "# broken_area = "
   ]
  },
  {
   "cell_type": "code",
   "execution_count": 19,
   "metadata": {},
   "outputs": [
    {
     "data": {
      "text/plain": [
       "-1"
      ]
     },
     "execution_count": 19,
     "metadata": {},
     "output_type": "execute_result"
    }
   ],
   "source": [
    "import numpy as np\n",
    "import cv2\n",
    "import pdb\n",
    "\n",
    "img_path = '4.png' \n",
    "img = cv2.imread(img_path)\n",
    "gray = cv2.cvtColor(img, cv2.COLOR_BGR2GRAY)\n",
    "\n",
    "#remove dark areas\n",
    "grayImg = cv2.GaussianBlur(gray, (3, 3), 0)\n",
    "darkIndex = np.copy(grayImg)\n",
    "darkIndex[grayImg <= 80] = False\n",
    "darkIndex[grayImg > 80] = True\n",
    "# pdb.set_trace()\n",
    "\n",
    "colNum, lineNum = 50, 10\n",
    "perCol, perLine = n//colNum, m//lineNum\n",
    "darkRate = np.zeros((colNum, lineNum))\n",
    "for i in range(colNum):\n",
    "    for j in range(lineNum):\n",
    "        darkRate[i, j] = sum(sum(darkIndex[i*perCol:(i+1)*perCol, j*perLine:(j+1)*perLine]))\n",
    "# pdb.set_trace()\n",
    "\n",
    "sortedDarkRate = np.copy(darkRate)\n",
    "sortedDarkRate.flatten()\n",
    "sortedDarkRate.sort()\n",
    "# accpectDarkRate = sortedDarkRate[0, int(0.9*len(sortedDarkRate))]\n",
    "accpectDarkRate = 24\n",
    "\n",
    "usedIndex2 = np.zeros((colNum, lineNum))\n",
    "for i in range(colNum):\n",
    "    for j in range(lineNum):\n",
    "        if darkRate[i, j] > accpectDarkRate:\n",
    "            replaceColIndex = i\n",
    "            while replaceColIndex > 0:\n",
    "                if darkRate[replaceColIndex, j] < accpectDarkRate and usedIndex2[replaceColIndex, j] == 0:\n",
    "                    usedIndex2[replaceColIndex, j] = 1\n",
    "                    break\n",
    "                replaceColIndex -= 1\n",
    "            if replaceColIndex == 0:\n",
    "                while replaceColIndex < lineNum:\n",
    "                    if darkRate[replaceColIndex, j] < accpectDarkRate and usedIndex2[replaceColIndex, j] == 0:\n",
    "                        usedIndex2[replaceColIndex, j] = 1\n",
    "                        break\n",
    "                    replaceColIndex += 1\n",
    "            img[i*perCol:(i+1)*perCol, j*perLine:(j+1)*perLine] = img[replaceColIndex*perCol:(replaceColIndex+1)*perCol, j*perLine:(j+1)*perLine]\n",
    "\n",
    "cv2.imshow(\"img\", img)\n",
    "cv2.waitKey(10000)"
   ]
  },
  {
   "cell_type": "code",
   "execution_count": 5,
   "metadata": {},
   "outputs": [
    {
     "data": {
      "text/plain": [
       "array([[ 9., 17., 24., ..., 24., 24., 24.],\n",
       "       [ 9., 18., 24., ..., 24., 24., 24.],\n",
       "       [ 9., 20., 24., ..., 24., 24., 24.],\n",
       "       ...,\n",
       "       [22., 23., 24., ..., 24., 24., 24.],\n",
       "       [22., 23., 24., ..., 24., 24., 24.],\n",
       "       [23., 23., 24., ..., 24., 24., 24.]])"
      ]
     },
     "execution_count": 5,
     "metadata": {},
     "output_type": "execute_result"
    }
   ],
   "source": [
    "sortedDarkRate"
   ]
  },
  {
   "cell_type": "code",
   "execution_count": 6,
   "metadata": {},
   "outputs": [
    {
     "data": {
      "text/plain": [
       "24.0"
      ]
     },
     "execution_count": 6,
     "metadata": {},
     "output_type": "execute_result"
    }
   ],
   "source": [
    "accpectDarkRate"
   ]
  }
 ],
 "metadata": {
  "kernelspec": {
   "display_name": "Python 3",
   "language": "python",
   "name": "python3"
  }
 },
 "nbformat": 4,
 "nbformat_minor": 2
}
